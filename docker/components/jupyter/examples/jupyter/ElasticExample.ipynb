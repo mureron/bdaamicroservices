{
 "cells": [
  {
   "cell_type": "code",
   "execution_count": 16,
   "metadata": {},
   "outputs": [
    {
     "name": "stdout",
     "output_type": "stream",
     "text": [
      "Requirement already satisfied: elasticsearch in /home/legacy/miniconda/lib/python3.7/site-packages (7.0.2)\n",
      "Requirement already satisfied: requests in /home/legacy/miniconda/lib/python3.7/site-packages (2.21.0)\n",
      "Requirement already satisfied: urllib3>=1.21.1 in /home/legacy/miniconda/lib/python3.7/site-packages (from elasticsearch) (1.24.1)\n",
      "Requirement already satisfied: chardet<3.1.0,>=3.0.2 in /home/legacy/miniconda/lib/python3.7/site-packages (from requests) (3.0.4)\n",
      "Requirement already satisfied: certifi>=2017.4.17 in /home/legacy/miniconda/lib/python3.7/site-packages (from requests) (2019.3.9)\n",
      "Requirement already satisfied: idna<2.9,>=2.5 in /home/legacy/miniconda/lib/python3.7/site-packages (from requests) (2.8)\n"
     ]
    }
   ],
   "source": [
    "!pip install elasticsearch requests"
   ]
  },
  {
   "cell_type": "code",
   "execution_count": 10,
   "metadata": {},
   "outputs": [],
   "source": [
    "# Import Elasticsearch package \n",
    "from elasticsearch import Elasticsearch \n",
    "# Connect to the elastic cluster\n",
    "es=Elasticsearch([{'host':'192.168.99.103','port':9200}])\n"
   ]
  },
  {
   "cell_type": "code",
   "execution_count": 17,
   "metadata": {},
   "outputs": [
    {
     "name": "stdout",
     "output_type": "stream",
     "text": [
      "18\n"
     ]
    }
   ],
   "source": [
    "import json\n",
    "import requests\n",
    "r = requests.get('http://192.168.99.103:9200') \n",
    "i = 1\n",
    "while r.status_code == 200:\n",
    "    r = requests.get('http://swapi.co/api/people/'+ str(i))\n",
    "    es.index(index='sw', doc_type='people', id=i, body=json.loads(r.content))\n",
    "    i=i+1\n",
    " \n",
    "print(i)"
   ]
  },
  {
   "cell_type": "code",
   "execution_count": 22,
   "metadata": {},
   "outputs": [
    {
     "data": {
      "text/plain": [
       "{'_index': 'sw',\n",
       " '_type': 'people',\n",
       " '_id': '5',\n",
       " '_version': 1,\n",
       " '_seq_no': 0,\n",
       " '_primary_term': 1,\n",
       " 'found': True,\n",
       " '_source': {'name': 'Leia Organa',\n",
       "  'height': '150',\n",
       "  'mass': '49',\n",
       "  'hair_color': 'brown',\n",
       "  'skin_color': 'light',\n",
       "  'eye_color': 'brown',\n",
       "  'birth_year': '19BBY',\n",
       "  'gender': 'female',\n",
       "  'homeworld': 'https://swapi.co/api/planets/2/',\n",
       "  'films': ['https://swapi.co/api/films/2/',\n",
       "   'https://swapi.co/api/films/6/',\n",
       "   'https://swapi.co/api/films/3/',\n",
       "   'https://swapi.co/api/films/1/',\n",
       "   'https://swapi.co/api/films/7/'],\n",
       "  'species': ['https://swapi.co/api/species/1/'],\n",
       "  'vehicles': ['https://swapi.co/api/vehicles/30/'],\n",
       "  'starships': [],\n",
       "  'created': '2014-12-10T15:20:09.791000Z',\n",
       "  'edited': '2014-12-20T21:17:50.315000Z',\n",
       "  'url': 'https://swapi.co/api/people/5/'}}"
      ]
     },
     "execution_count": 22,
     "metadata": {},
     "output_type": "execute_result"
    }
   ],
   "source": [
    "es.get(index='sw', doc_type='people', id=5)\n"
   ]
  },
  {
   "cell_type": "code",
   "execution_count": 21,
   "metadata": {},
   "outputs": [
    {
     "data": {
      "text/plain": [
       "{'took': 25,\n",
       " 'timed_out': False,\n",
       " '_shards': {'total': 5, 'successful': 5, 'skipped': 0, 'failed': 0},\n",
       " 'hits': {'total': 1,\n",
       "  'max_score': 1.0,\n",
       "  'hits': [{'_index': 'sw',\n",
       "    '_type': 'people',\n",
       "    '_id': '1',\n",
       "    '_score': 1.0,\n",
       "    '_source': {'name': 'Luke Skywalker',\n",
       "     'height': '172',\n",
       "     'mass': '77',\n",
       "     'hair_color': 'blond',\n",
       "     'skin_color': 'fair',\n",
       "     'eye_color': 'blue',\n",
       "     'birth_year': '19BBY',\n",
       "     'gender': 'male',\n",
       "     'homeworld': 'https://swapi.co/api/planets/1/',\n",
       "     'films': ['https://swapi.co/api/films/2/',\n",
       "      'https://swapi.co/api/films/6/',\n",
       "      'https://swapi.co/api/films/3/',\n",
       "      'https://swapi.co/api/films/1/',\n",
       "      'https://swapi.co/api/films/7/'],\n",
       "     'species': ['https://swapi.co/api/species/1/'],\n",
       "     'vehicles': ['https://swapi.co/api/vehicles/14/',\n",
       "      'https://swapi.co/api/vehicles/30/'],\n",
       "     'starships': ['https://swapi.co/api/starships/12/',\n",
       "      'https://swapi.co/api/starships/22/'],\n",
       "     'created': '2014-12-09T13:50:51.644000Z',\n",
       "     'edited': '2014-12-20T21:17:56.891000Z',\n",
       "     'url': 'https://swapi.co/api/people/1/'}}]}}"
      ]
     },
     "execution_count": 21,
     "metadata": {},
     "output_type": "execute_result"
    }
   ],
   "source": [
    "es.search(index=\"sw\", body={\"query\": {\"prefix\" : { \"name\" : \"lu\" }}})"
   ]
  },
  {
   "cell_type": "code",
   "execution_count": null,
   "metadata": {},
   "outputs": [],
   "source": []
  }
 ],
 "metadata": {
  "kernelspec": {
   "display_name": "Python 3",
   "language": "python",
   "name": "python3"
  },
  "language_info": {
   "codemirror_mode": {
    "name": "ipython",
    "version": 3
   },
   "file_extension": ".py",
   "mimetype": "text/x-python",
   "name": "python",
   "nbconvert_exporter": "python",
   "pygments_lexer": "ipython3",
   "version": "3.7.3"
  }
 },
 "nbformat": 4,
 "nbformat_minor": 2
}
